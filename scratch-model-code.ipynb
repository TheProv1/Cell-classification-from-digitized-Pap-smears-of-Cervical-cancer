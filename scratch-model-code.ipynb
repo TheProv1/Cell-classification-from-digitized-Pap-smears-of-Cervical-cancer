{
 "cells": [
  {
   "cell_type": "code",
   "execution_count": null,
   "id": "6415d26e",
   "metadata": {},
   "outputs": [],
   "source": [
    "import tensorflow as tf\n",
    "import keras\n",
    "import os\n",
    "import core_values as cova"
   ]
  },
  {
   "cell_type": "code",
   "execution_count": null,
   "id": "badcd535",
   "metadata": {},
   "outputs": [],
   "source": [
    "gpus = tf.config.list_physical_devices('GPU')\n",
    "print(gpus)\n",
    "\n",
    "try:\n",
    "    for gpu in gpus:\n",
    "        tf.config.experimental.set_memory_growth(gpu, True)\n",
    "\n",
    "except Exception as e:\n",
    "    print(f\"{e}\")"
   ]
  },
  {
   "cell_type": "code",
   "execution_count": null,
   "id": "4b4cc6e6",
   "metadata": {},
   "outputs": [],
   "source": [
    "AUTOTUNE = tf.data.AUTOTUNE"
   ]
  },
  {
   "cell_type": "code",
   "execution_count": null,
   "id": "84cb57c6",
   "metadata": {},
   "outputs": [],
   "source": [
    "path = \"/mnt/d/Tojo Sir - Project/\"\n",
    "processed_path = os.path.join(path, \"processed_data\")"
   ]
  },
  {
   "cell_type": "code",
   "execution_count": null,
   "id": "ea03c881",
   "metadata": {},
   "outputs": [],
   "source": [
    "try:\n",
    "    train_ds = tf.data.Dataset.load(os.path.join(processed_path, \"train\"))\n",
    "    valid_ds = tf.data.Dataset.load(os.path.join(processed_path, \"valid\"))\n",
    "\n",
    "except Exception as e:\n",
    "    print(f\"{e}\")"
   ]
  },
  {
   "cell_type": "code",
   "execution_count": null,
   "id": "568aa5eb",
   "metadata": {},
   "outputs": [],
   "source": [
    "train = train_ds.prefetch(buffer_size = AUTOTUNE)\n",
    "valid = valid_ds.prefetch(buffer_size = AUTOTUNE)"
   ]
  },
  {
   "cell_type": "code",
   "execution_count": null,
   "id": "9ec8ccf7",
   "metadata": {},
   "outputs": [],
   "source": [
    "data_augmentation = keras.models.Sequential([\n",
    "    keras.layers.RandomFlip(\"horizontal_and_vertical\"),\n",
    "    keras.layers.RandomZoom(0.1, 0.1),\n",
    "    keras.layers.RandomTranslation(0.1, 0.1),\n",
    "    keras.layers.RandomRotation(0.2)\n",
    "], name = \"data_augmentation\")"
   ]
  },
  {
   "cell_type": "code",
   "execution_count": null,
   "id": "fa6cf9c6",
   "metadata": {},
   "outputs": [],
   "source": [
    "model = keras.models.Sequential([\n",
    "    keras.layers.Input((cova.IMAGE_SIZE[0], cova.IMAGE_SIZE[1], 3)),\n",
    "\n",
    "    data_augmentation,\n",
    "\n",
    "    keras.layers.Conv2D(16, (3,3), padding=\"same\"),\n",
    "    keras.layers.BatchNormalization(),\n",
    "    keras.layers.Activation(activation=keras.activations.leaky_relu),\n",
    "    keras.layers.MaxPool2D((2,2)),\n",
    "\n",
    "    keras.layers.Conv2D(32, (3,3), padding=\"same\"),\n",
    "    keras.layers.BatchNormalization(),\n",
    "    keras.layers.Activation(activation=keras.activations.leaky_relu),\n",
    "    keras.layers.MaxPool2D((2,2)),\n",
    "\n",
    "    keras.layers.Conv2D(64, (3,3), padding=\"same\"),\n",
    "    keras.layers.BatchNormalization(),\n",
    "    keras.layers.Activation(activation=keras.activations.leaky_relu),\n",
    "    keras.layers.MaxPool2D((2,2)),\n",
    "\n",
    "    keras.layers.Conv2D(128, (3,3), padding=\"same\"),\n",
    "    keras.layers.BatchNormalization(),\n",
    "    keras.layers.Activation(activation=keras.activations.leaky_relu),\n",
    "    keras.layers.MaxPool2D((2,2)),\n",
    "\n",
    "    keras.layers.Conv2D(256, (3,3), padding=\"same\"),\n",
    "    keras.layers.BatchNormalization(),\n",
    "    keras.layers.Activation(activation=keras.activations.leaky_relu),\n",
    "    keras.layers.MaxPool2D((2,2)),\n",
    "\n",
    "    keras.layers.Flatten(),\n",
    "\n",
    "    keras.layers.LayerNormalization(),\n",
    "    keras.layers.Dense(1024, activation = keras.activations.leaky_relu),\n",
    "    keras.layers.Dense(64, activation = keras.activations.leaky_relu),\n",
    "    keras.layers.Dense(4, activation = keras.activations.softmax)\n",
    "])"
   ]
  },
  {
   "cell_type": "code",
   "execution_count": null,
   "id": "6f840a71",
   "metadata": {},
   "outputs": [],
   "source": [
    "model.compile(optimizer=keras.optimizers.SGD(learning_rate= 0.01),\n",
    "              loss = keras.losses.SparseCategoricalCrossentropy(),\n",
    "              metrics = ['accuracy'])"
   ]
  },
  {
   "cell_type": "code",
   "execution_count": null,
   "id": "932e3d35",
   "metadata": {},
   "outputs": [],
   "source": [
    "early_stopping = keras.callbacks.EarlyStopping(\n",
    "    monitor = 'val_loss',\n",
    "    patience = 5,\n",
    "    verbose = 1,\n",
    "    restore_best_weights = True\n",
    ")\n",
    "\n",
    "reduce_lr = keras.callbacks.ReduceLROnPlateau(\n",
    "    monitor = 'val_loss',\n",
    "    factor = 0.5,\n",
    "    patience = 3,\n",
    "    verbose = 1,\n",
    "    min_lr = 0.00000001\n",
    ")\n",
    "\n",
    "terminate_nan = keras.callbacks.TerminateOnNaN()"
   ]
  },
  {
   "cell_type": "code",
   "execution_count": null,
   "id": "91c5f361",
   "metadata": {},
   "outputs": [],
   "source": [
    "model.fit(train,  validation_data = valid, epochs = 256, callbacks=[early_stopping, reduce_lr, terminate_nan])"
   ]
  },
  {
   "cell_type": "code",
   "execution_count": null,
   "id": "5ccb56fb",
   "metadata": {},
   "outputs": [],
   "source": [
    "model.save('scratch-trained-model.keras', overwrite = True)"
   ]
  }
 ],
 "metadata": {
  "kernelspec": {
   "display_name": "project-venv (3.10.12)",
   "language": "python",
   "name": "python3"
  },
  "language_info": {
   "codemirror_mode": {
    "name": "ipython",
    "version": 3
   },
   "file_extension": ".py",
   "mimetype": "text/x-python",
   "name": "python",
   "nbconvert_exporter": "python",
   "pygments_lexer": "ipython3",
   "version": "3.10.12"
  }
 },
 "nbformat": 4,
 "nbformat_minor": 5
}
