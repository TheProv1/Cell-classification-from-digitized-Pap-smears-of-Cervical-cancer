{
 "cells": [
  {
   "cell_type": "code",
   "execution_count": null,
   "id": "6415d26e",
   "metadata": {},
   "outputs": [],
   "source": [
    "import tensorflow as tf\n",
    "import keras"
   ]
  },
  {
   "cell_type": "code",
   "execution_count": null,
   "id": "badcd535",
   "metadata": {},
   "outputs": [],
   "source": [
    "gpus = tf.config.list_physical_devices('GPU')\n",
    "print(gpus)\n",
    "\n",
    "try:\n",
    "    for i in gpus:\n",
    "        for gpu in gpus:\n",
    "            tf.config.experimental.set_memory_growth(gpu, True)\n",
    "\n",
    "except Exception as e:\n",
    "    print(f\"{e}\")"
   ]
  },
  {
   "cell_type": "code",
   "execution_count": null,
   "id": "4b4cc6e6",
   "metadata": {},
   "outputs": [],
   "source": [
    "BATCH_SIZE: int = 8\n",
    "SEED: int = 123\n",
    "LABEL_MODE: str = 'int'\n",
    "IMAGE_SIZE: tuple = (224, 224)\n",
    "INTERPOLATION: str = \"bilinear\"\n",
    "COLOR: str = 'rgb'\n",
    "LABELS: str = \"inferred\"\n",
    "\n",
    "AUTOTUNE = tf.data.AUTOTUNE"
   ]
  },
  {
   "cell_type": "code",
   "execution_count": null,
   "id": "84cb57c6",
   "metadata": {},
   "outputs": [],
   "source": [
    "path = \"/mnt/d/Tojo Sir - Project/\"\n",
    "train_path = path + \"isbi2025-ps3c-train-dataset/\"\n",
    "test_path = path + \"isbi2025-ps3c-test-dataset/\""
   ]
  },
  {
   "cell_type": "code",
   "execution_count": null,
   "id": "52328322",
   "metadata": {},
   "outputs": [],
   "source": [
    "try:\n",
    "    train_set = keras.utils.image_dataset_from_directory(\n",
    "        train_path,\n",
    "        batch_size = BATCH_SIZE,\n",
    "        seed = SEED,\n",
    "        subset = \"training\",\n",
    "        validation_split = 0.3,\n",
    "        shuffle = True,\n",
    "        interpolation = INTERPOLATION,\n",
    "        label_mode = LABEL_MODE,\n",
    "        color_mode = COLOR,\n",
    "        labels = LABELS,\n",
    "        image_size = IMAGE_SIZE \n",
    "    )\n",
    "\n",
    "except:\n",
    "    print(\"Error loading training set\\n\")"
   ]
  },
  {
   "cell_type": "code",
   "execution_count": null,
   "id": "5bf839ec",
   "metadata": {},
   "outputs": [],
   "source": [
    "try:\n",
    "    valid_set = keras.utils.image_dataset_from_directory(\n",
    "        train_path,\n",
    "        batch_size = BATCH_SIZE,\n",
    "        seed = SEED,\n",
    "        subset = \"validation\",\n",
    "        shuffle = False,\n",
    "        validation_split = 0.3,\n",
    "        label_mode = LABEL_MODE,\n",
    "        color_mode = COLOR,\n",
    "        labels = LABELS,\n",
    "        image_size = IMAGE_SIZE \n",
    "    )\n",
    "\n",
    "except:\n",
    "    print(\"Error loading Validation set\")"
   ]
  },
  {
   "cell_type": "code",
   "execution_count": null,
   "id": "aa00805c",
   "metadata": {},
   "outputs": [],
   "source": [
    "def normalizeImages(image, label):\n",
    "    image = tf.cast(image, tf.float32) / 255.0\n",
    "    return image, label"
   ]
  },
  {
   "cell_type": "code",
   "execution_count": null,
   "id": "9aadcfe6",
   "metadata": {},
   "outputs": [],
   "source": [
    "train = train_set.map(normalizeImages, num_parallel_calls = AUTOTUNE).cache('train_cache').prefetch(buffer_size = AUTOTUNE)\n",
    "valid = valid_set.map(normalizeImages, num_parallel_calls = AUTOTUNE).cache('valid_cache').prefetch(buffer_size = AUTOTUNE) "
   ]
  },
  {
   "cell_type": "code",
   "execution_count": null,
   "id": "9ec8ccf7",
   "metadata": {},
   "outputs": [],
   "source": [
    "data_augmentation = keras.models.Sequential([\n",
    "    keras.layers.RandomFlip(\"horizontal_and_vertical\"),\n",
    "    keras.layers.RandomZoom(0.1, 0.1),\n",
    "    keras.layers.RandomTranslation(0.1, 0.1),\n",
    "    keras.layers.RandomRotation(0.2)\n",
    "], name = \"data_augmentation\")"
   ]
  },
  {
   "cell_type": "code",
   "execution_count": null,
   "id": "fa6cf9c6",
   "metadata": {},
   "outputs": [],
   "source": [
    "model = keras.models.Sequential([\n",
    "    keras.layers.Input((IMAGE_SIZE[0], IMAGE_SIZE[1], 3)),\n",
    "\n",
    "    #data_augmentation,\n",
    "\n",
    "    keras.layers.Conv2D(16, (2,2), padding=\"same\"),\n",
    "    keras.layers.BatchNormalization(),\n",
    "    keras.layers.Activation(activation=keras.activations.leaky_relu),\n",
    "    keras.layers.MaxPool2D((2,2)),\n",
    "\n",
    "    keras.layers.Conv2D(32, (2,2), padding=\"same\"),\n",
    "    keras.layers.BatchNormalization(),\n",
    "    keras.layers.Activation(activation=keras.activations.leaky_relu),\n",
    "    keras.layers.MaxPool2D((2,2)),\n",
    "\n",
    "    keras.layers.Conv2D(64, (2,2), padding=\"same\"),\n",
    "    keras.layers.BatchNormalization(),\n",
    "    keras.layers.Activation(activation=keras.activations.leaky_relu),\n",
    "    keras.layers.MaxPool2D((2,2)),\n",
    "\n",
    "    keras.layers.Flatten(),\n",
    "\n",
    "    keras.layers.Dense(1024, activation = keras.activations.leaky_relu),\n",
    "    keras.layers.Dense(256, activation = keras.activations.leaky_relu),\n",
    "    keras.layers.Dense(64, activation = keras.activations.leaky_relu),\n",
    "    keras.layers.Dense(4, activation = keras.activations.softmax)\n",
    "])"
   ]
  },
  {
   "cell_type": "code",
   "execution_count": null,
   "id": "6f840a71",
   "metadata": {},
   "outputs": [],
   "source": [
    "model.compile(optimizer=keras.optimizers.SGD(),\n",
    "              loss = keras.losses.SparseCategoricalCrossentropy(),\n",
    "              metrics = ['accuracy'],\n",
    "              jit_compile=True)"
   ]
  },
  {
   "cell_type": "code",
   "execution_count": null,
   "id": "932e3d35",
   "metadata": {},
   "outputs": [],
   "source": [
    "early_stopping = keras.callbacks.EarlyStopping(\n",
    "    monitor = 'val_loss',\n",
    "    patience = 5,\n",
    "    verbose = 1,\n",
    "    restore_best_weights = True\n",
    ")"
   ]
  },
  {
   "cell_type": "code",
   "execution_count": null,
   "id": "91c5f361",
   "metadata": {},
   "outputs": [],
   "source": [
    "model.fit(train,  validation_data = valid, epochs = 256, callbacks=[early_stopping])"
   ]
  }
 ],
 "metadata": {
  "kernelspec": {
   "display_name": "project-venv (3.10.12)",
   "language": "python",
   "name": "python3"
  },
  "language_info": {
   "codemirror_mode": {
    "name": "ipython",
    "version": 3
   },
   "file_extension": ".py",
   "mimetype": "text/x-python",
   "name": "python",
   "nbconvert_exporter": "python",
   "pygments_lexer": "ipython3",
   "version": "3.10.12"
  }
 },
 "nbformat": 4,
 "nbformat_minor": 5
}
