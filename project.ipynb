{
 "cells": [
  {
   "cell_type": "code",
   "execution_count": 5,
   "id": "6415d26e",
   "metadata": {},
   "outputs": [],
   "source": [
    "import tensorflow as tf\n",
    "import keras\n",
    "import os"
   ]
  },
  {
   "cell_type": "code",
   "execution_count": 2,
   "id": "badcd535",
   "metadata": {},
   "outputs": [
    {
     "name": "stdout",
     "output_type": "stream",
     "text": [
      "[PhysicalDevice(name='/physical_device:GPU:0', device_type='GPU')]\n"
     ]
    }
   ],
   "source": [
    "gpus = tf.config.list_physical_devices('GPU')\n",
    "print(gpus)\n",
    "\n",
    "try:\n",
    "    for i in gpus:\n",
    "        for gpu in gpus:\n",
    "            tf.config.experimental.set_memory_growth(gpu, True)\n",
    "\n",
    "except Exception as e:\n",
    "    print(f\"{e}\")"
   ]
  },
  {
   "cell_type": "code",
   "execution_count": 6,
   "id": "4b4cc6e6",
   "metadata": {},
   "outputs": [],
   "source": [
    "BATCH_SIZE: int = 32\n",
    "SEED: int = 123\n",
    "LABEL_MODE: str = 'int'\n",
    "IMAGE_SIZE: tuple = (224, 224)\n",
    "INTERPOLATION: str = \"bilinear\"\n",
    "COLOR: str = 'rgb'\n",
    "LABELS: str = \"inferred\"\n",
    "\n",
    "AUTOTUNE = tf.data.AUTOTUNE"
   ]
  },
  {
   "cell_type": "code",
   "execution_count": 7,
   "id": "84cb57c6",
   "metadata": {},
   "outputs": [],
   "source": [
    "path = \"/mnt/d/Tojo Sir - Project/\"\n",
    "processed_path = os.path.join(path, \"processed_data\")"
   ]
  },
  {
   "cell_type": "code",
   "execution_count": 10,
   "id": "ea03c881",
   "metadata": {},
   "outputs": [
    {
     "name": "stdout",
     "output_type": "stream",
     "text": [
      "tf.data snapshot element_spec file not found: /mnt/d/Tojo Sir - Project/processed_data/valid/dataset_spec.pb.\n"
     ]
    }
   ],
   "source": [
    "try:\n",
    "    train_ds = tf.data.Dataset.load(os.path.join(processed_path, \"train\"))\n",
    "    valid_ds = tf.data.Dataset.load(os.path.join(processed_path, \"valid\"))\n",
    "\n",
    "except Exception as e:\n",
    "    print(f\"{e}\")"
   ]
  },
  {
   "cell_type": "code",
   "execution_count": 9,
   "id": "568aa5eb",
   "metadata": {},
   "outputs": [
    {
     "ename": "NameError",
     "evalue": "name 'valid_ds' is not defined",
     "output_type": "error",
     "traceback": [
      "\u001b[0;31m---------------------------------------------------------------------------\u001b[0m",
      "\u001b[0;31mNameError\u001b[0m                                 Traceback (most recent call last)",
      "Cell \u001b[0;32mIn[9], line 2\u001b[0m\n\u001b[1;32m      1\u001b[0m train \u001b[38;5;241m=\u001b[39m train_ds\u001b[38;5;241m.\u001b[39mprefetch(buffer_size \u001b[38;5;241m=\u001b[39m AUTOTUNE)\n\u001b[0;32m----> 2\u001b[0m valid \u001b[38;5;241m=\u001b[39m \u001b[43mvalid_ds\u001b[49m\u001b[38;5;241m.\u001b[39mprefetch(buffer_size \u001b[38;5;241m=\u001b[39m AUTOTUNE)\n",
      "\u001b[0;31mNameError\u001b[0m: name 'valid_ds' is not defined"
     ]
    }
   ],
   "source": [
    "train = train_ds.prefetch(buffer_size = AUTOTUNE)\n",
    "valid = valid_ds.prefetch(buffer_size = AUTOTUNE)"
   ]
  },
  {
   "cell_type": "code",
   "execution_count": 12,
   "id": "9ec8ccf7",
   "metadata": {},
   "outputs": [],
   "source": [
    "data_augmentation = keras.models.Sequential([\n",
    "    keras.layers.RandomFlip(\"horizontal_and_vertical\"),\n",
    "    keras.layers.RandomZoom(0.1, 0.1),\n",
    "    keras.layers.RandomTranslation(0.1, 0.1),\n",
    "    keras.layers.RandomRotation(0.2)\n",
    "], name = \"data_augmentation\")"
   ]
  },
  {
   "cell_type": "code",
   "execution_count": 13,
   "id": "fa6cf9c6",
   "metadata": {},
   "outputs": [],
   "source": [
    "model = keras.models.Sequential([\n",
    "    keras.layers.Input((IMAGE_SIZE[0], IMAGE_SIZE[1], 3)),\n",
    "\n",
    "    data_augmentation,\n",
    "\n",
    "    keras.layers.Conv2D(16, (3,3), padding=\"same\"),\n",
    "    keras.layers.BatchNormalization(),\n",
    "    keras.layers.Activation(activation=keras.activations.leaky_relu),\n",
    "    keras.layers.MaxPool2D((2,2)),\n",
    "\n",
    "    keras.layers.Conv2D(32, (3,3), padding=\"same\"),\n",
    "    keras.layers.BatchNormalization(),\n",
    "    keras.layers.Activation(activation=keras.activations.leaky_relu),\n",
    "    keras.layers.MaxPool2D((2,2)),\n",
    "\n",
    "    keras.layers.Conv2D(64, (3,3), padding=\"same\"),\n",
    "    keras.layers.BatchNormalization(),\n",
    "    keras.layers.Activation(activation=keras.activations.leaky_relu),\n",
    "    keras.layers.MaxPool2D((2,2)),\n",
    "\n",
    "    keras.layers.Flatten(),\n",
    "\n",
    "    keras.layers.Dense(1024, activation = keras.activations.leaky_relu),\n",
    "    keras.layers.Dense(256, activation = keras.activations.leaky_relu),\n",
    "    keras.layers.Dense(64, activation = keras.activations.leaky_relu),\n",
    "    keras.layers.Dense(4, activation = keras.activations.softmax)\n",
    "])"
   ]
  },
  {
   "cell_type": "code",
   "execution_count": null,
   "id": "6f840a71",
   "metadata": {},
   "outputs": [],
   "source": [
    "model.compile(optimizer=keras.optimizers.Adam(learning_rate= 0.1),\n",
    "              loss = keras.losses.SparseCategoricalCrossentropy(),\n",
    "              metrics = ['accuracy'])"
   ]
  },
  {
   "cell_type": "code",
   "execution_count": null,
   "id": "932e3d35",
   "metadata": {},
   "outputs": [],
   "source": [
    "early_stopping = keras.callbacks.EarlyStopping(\n",
    "    monitor = 'val_loss',\n",
    "    patience = 5,\n",
    "    verbose = 1,\n",
    "    restore_best_weights = True\n",
    ")\n",
    "\n",
    "reduce_lr = keras.callbacks.ReduceLROnPlateau(\n",
    "    monitor = 'val_loss',\n",
    "    factor = 0.1,\n",
    "    patience = 3,\n",
    "    verbose = 1,\n",
    "    min_lr = 0.00000001\n",
    ")"
   ]
  },
  {
   "cell_type": "code",
   "execution_count": 16,
   "id": "91c5f361",
   "metadata": {},
   "outputs": [
    {
     "ename": "NameError",
     "evalue": "name 'valid' is not defined",
     "output_type": "error",
     "traceback": [
      "\u001b[0;31m---------------------------------------------------------------------------\u001b[0m",
      "\u001b[0;31mNameError\u001b[0m                                 Traceback (most recent call last)",
      "Cell \u001b[0;32mIn[16], line 1\u001b[0m\n\u001b[0;32m----> 1\u001b[0m model\u001b[38;5;241m.\u001b[39mfit(train,  validation_data \u001b[38;5;241m=\u001b[39m \u001b[43mvalid\u001b[49m, epochs \u001b[38;5;241m=\u001b[39m \u001b[38;5;241m256\u001b[39m, callbacks\u001b[38;5;241m=\u001b[39m[early_stopping])\n",
      "\u001b[0;31mNameError\u001b[0m: name 'valid' is not defined"
     ]
    }
   ],
   "source": [
    "model.fit(train,  validation_data = valid, epochs = 256, callbacks=[early_stopping])"
   ]
  }
 ],
 "metadata": {
  "kernelspec": {
   "display_name": "project-venv (3.10.12)",
   "language": "python",
   "name": "python3"
  },
  "language_info": {
   "codemirror_mode": {
    "name": "ipython",
    "version": 3
   },
   "file_extension": ".py",
   "mimetype": "text/x-python",
   "name": "python",
   "nbconvert_exporter": "python",
   "pygments_lexer": "ipython3",
   "version": "3.10.12"
  }
 },
 "nbformat": 4,
 "nbformat_minor": 5
}
