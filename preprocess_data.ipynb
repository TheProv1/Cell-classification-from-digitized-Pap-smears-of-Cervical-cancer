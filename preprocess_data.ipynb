{
 "cells": [
  {
   "cell_type": "code",
   "execution_count": null,
   "id": "0b013841",
   "metadata": {},
   "outputs": [],
   "source": [
    "import tensorflow as tf\n",
    "import os\n",
    "import keras\n",
    "import core_values as cova"
   ]
  },
  {
   "cell_type": "code",
   "execution_count": null,
   "id": "9164d2b1",
   "metadata": {},
   "outputs": [],
   "source": [
    "gpus = tf.config.list_physical_devices('GPU')\n",
    "print(gpus)\n",
    "\n",
    "try:\n",
    "    for gpu in gpus:\n",
    "        tf.config.experimental.set_memory_growth(gpu, True)\n",
    "\n",
    "except Exception as e:\n",
    "    print(f\"{e}\")"
   ]
  },
  {
   "cell_type": "code",
   "execution_count": null,
   "id": "963ff06a",
   "metadata": {},
   "outputs": [],
   "source": [
    "AUTOTUNE = tf.data.AUTOTUNE"
   ]
  },
  {
   "cell_type": "code",
   "execution_count": null,
   "id": "49f405db",
   "metadata": {},
   "outputs": [],
   "source": [
    "path = \"/mnt/d/Tojo Sir - Project/\"\n",
    "raw_path = path + \"isbi2025-ps3c-train-dataset/\"\n",
    "processed_path = os.path.join(path, \"processed_data\")"
   ]
  },
  {
   "cell_type": "code",
   "execution_count": null,
   "id": "0481f8db",
   "metadata": {},
   "outputs": [],
   "source": [
    "try:\n",
    "    train_set = keras.utils.image_dataset_from_directory(\n",
    "        raw_path,\n",
    "        batch_size = None,\n",
    "        seed = cova.SEED,\n",
    "        subset = \"training\",\n",
    "        validation_split = cova.VALIDATION_SPLIT,\n",
    "        shuffle = True,\n",
    "        interpolation = cova.INTERPOLATION,\n",
    "        label_mode = cova.LABEL_MODE,\n",
    "        color_mode = cova.COLOR,\n",
    "        labels = cova.LABELS,\n",
    "        image_size = cova.IMAGE_SIZE \n",
    "    )\n",
    "\n",
    "except:\n",
    "    print(\"Error loading training set\\n\")"
   ]
  },
  {
   "cell_type": "code",
   "execution_count": null,
   "id": "a4ecaf18",
   "metadata": {},
   "outputs": [],
   "source": [
    "try:\n",
    "    valid_set = keras.utils.image_dataset_from_directory(\n",
    "        raw_path,\n",
    "        batch_size = None,\n",
    "        seed = cova.SEED,\n",
    "        subset = \"validation\",\n",
    "        shuffle = False,\n",
    "        validation_split = cova.VALIDATION_SPLIT,\n",
    "        label_mode = cova.LABEL_MODE,\n",
    "        color_mode = cova.COLOR,\n",
    "        labels = cova.LABELS,\n",
    "        image_size = cova.IMAGE_SIZE \n",
    "    )\n",
    "\n",
    "except:\n",
    "    print(\"Error loading Validation set\")"
   ]
  },
  {
   "cell_type": "code",
   "execution_count": null,
   "id": "13c0bd82",
   "metadata": {},
   "outputs": [],
   "source": [
    "def normalizeImages(image, label):\n",
    "    image = tf.cast(image, tf.float32) / 255.0\n",
    "    return image, label"
   ]
  },
  {
   "cell_type": "code",
   "execution_count": null,
   "id": "9a07d576",
   "metadata": {},
   "outputs": [],
   "source": [
    "train_processed = train_set.map(normalizeImages, num_parallel_calls = AUTOTUNE).batch(BATCH_SIZE)\n",
    "valid_processed = valid_set.map(normalizeImages, num_parallel_calls = AUTOTUNE).batch(BATCH_SIZE)"
   ]
  },
  {
   "cell_type": "code",
   "execution_count": null,
   "id": "6e40470e",
   "metadata": {},
   "outputs": [],
   "source": [
    "os.makedirs(processed_path, exist_ok = True)\n",
    "\n",
    "tf.data.Dataset.save(train_processed, os.path.join(processed_path, 'train'))\n",
    "tf.data.Dataset.save(valid_processed, os.path.join(processed_path, 'valid'))"
   ]
  }
 ],
 "metadata": {
  "kernelspec": {
   "display_name": "project-venv (3.10.12)",
   "language": "python",
   "name": "python3"
  },
  "language_info": {
   "codemirror_mode": {
    "name": "ipython",
    "version": 3
   },
   "file_extension": ".py",
   "mimetype": "text/x-python",
   "name": "python",
   "nbconvert_exporter": "python",
   "pygments_lexer": "ipython3",
   "version": "3.10.12"
  }
 },
 "nbformat": 4,
 "nbformat_minor": 5
}
