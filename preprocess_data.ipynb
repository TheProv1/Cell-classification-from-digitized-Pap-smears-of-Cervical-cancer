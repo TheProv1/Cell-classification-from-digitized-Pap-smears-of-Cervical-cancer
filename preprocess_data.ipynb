{
 "cells": [
  {
   "cell_type": "code",
   "execution_count": null,
   "id": "0b013841",
   "metadata": {},
   "outputs": [
    {
     "name": "stderr",
     "output_type": "stream",
     "text": [
      "2025-09-14 20:50:31.142350: I tensorflow/core/platform/cpu_feature_guard.cc:210] This TensorFlow binary is optimized to use available CPU instructions in performance-critical operations.\n",
      "To enable the following instructions: AVX2 FMA, in other operations, rebuild TensorFlow with the appropriate compiler flags.\n"
     ]
    }
   ],
   "source": [
    "import tensorflow as tf\n",
    "import os\n",
    "import keras\n",
    "import core_values as cova"
   ]
  },
  {
   "cell_type": "code",
   "execution_count": 2,
   "id": "9164d2b1",
   "metadata": {},
   "outputs": [
    {
     "name": "stdout",
     "output_type": "stream",
     "text": [
      "[PhysicalDevice(name='/physical_device:GPU:0', device_type='GPU')]\n"
     ]
    }
   ],
   "source": [
    "gpus = tf.config.list_physical_devices('GPU')\n",
    "print(gpus)\n",
    "\n",
    "try:\n",
    "    for i in gpus:\n",
    "        for gpu in gpus:\n",
    "            tf.config.experimental.set_memory_growth(gpu, True)\n",
    "\n",
    "except Exception as e:\n",
    "    print(f\"{e}\")"
   ]
  },
  {
   "cell_type": "code",
   "execution_count": null,
   "id": "963ff06a",
   "metadata": {},
   "outputs": [],
   "source": [
    "AUTOTUNE = tf.data.AUTOTUNE"
   ]
  },
  {
   "cell_type": "code",
   "execution_count": 4,
   "id": "49f405db",
   "metadata": {},
   "outputs": [],
   "source": [
    "path = \"/mnt/d/Tojo Sir - Project/\"\n",
    "raw_path = path + \"isbi2025-ps3c-train-dataset/\"\n",
    "processed_path = os.path.join(path, \"processed_data\")"
   ]
  },
  {
   "cell_type": "code",
   "execution_count": null,
   "id": "0481f8db",
   "metadata": {},
   "outputs": [
    {
     "name": "stdout",
     "output_type": "stream",
     "text": [
      "Found 85080 files belonging to 4 classes.\n",
      "Using 59556 files for training.\n"
     ]
    },
    {
     "name": "stderr",
     "output_type": "stream",
     "text": [
      "WARNING: All log messages before absl::InitializeLog() is called are written to STDERR\n",
      "I0000 00:00:1757868765.293301   33321 gpu_device.cc:2020] Created device /job:localhost/replica:0/task:0/device:GPU:0 with 2246 MB memory:  -> device: 0, name: NVIDIA GeForce GTX 1650, pci bus id: 0000:01:00.0, compute capability: 7.5\n"
     ]
    }
   ],
   "source": [
    "try:\n",
    "    train_set = keras.utils.image_dataset_from_directory(\n",
    "        raw_path,\n",
    "        batch_size = None,\n",
    "        seed = cova.SEED,\n",
    "        subset = \"training\",\n",
    "        validation_split = cova.VALIDATION_SPLIT,\n",
    "        shuffle = True,\n",
    "        interpolation = cova.INTERPOLATION,\n",
    "        label_mode = cova.LABEL_MODE,\n",
    "        color_mode = cova.COLOR,\n",
    "        labels = cova.LABELS,\n",
    "        image_size = cova.IMAGE_SIZE \n",
    "    )\n",
    "\n",
    "except:\n",
    "    print(\"Error loading training set\\n\")"
   ]
  },
  {
   "cell_type": "code",
   "execution_count": null,
   "id": "a4ecaf18",
   "metadata": {},
   "outputs": [
    {
     "name": "stdout",
     "output_type": "stream",
     "text": [
      "Found 85080 files belonging to 4 classes.\n",
      "Using 25524 files for validation.\n"
     ]
    }
   ],
   "source": [
    "try:\n",
    "    valid_set = keras.utils.image_dataset_from_directory(\n",
    "        raw_path,\n",
    "        batch_size = None,\n",
    "        seed = cova.SEED,\n",
    "        subset = \"validation\",\n",
    "        shuffle = False,\n",
    "        validation_split = cova.VALIDATION_SPLIT,\n",
    "        label_mode = cova.LABEL_MODE,\n",
    "        color_mode = cova.COLOR,\n",
    "        labels = cova.LABELS,\n",
    "        image_size = cova.IMAGE_SIZE \n",
    "    )\n",
    "\n",
    "except:\n",
    "    print(\"Error loading Validation set\")"
   ]
  },
  {
   "cell_type": "code",
   "execution_count": 7,
   "id": "13c0bd82",
   "metadata": {},
   "outputs": [],
   "source": [
    "def normalizeImages(image, label):\n",
    "    image = tf.cast(image, tf.float32) / 255.0\n",
    "    return image, label"
   ]
  },
  {
   "cell_type": "code",
   "execution_count": 8,
   "id": "9a07d576",
   "metadata": {},
   "outputs": [],
   "source": [
    "train_processed = train_set.map(normalizeImages, num_parallel_calls = AUTOTUNE).batch(BATCH_SIZE)\n",
    "valid_processed = valid_set.map(normalizeImages, num_parallel_calls = AUTOTUNE).batch(BATCH_SIZE)"
   ]
  },
  {
   "cell_type": "code",
   "execution_count": 9,
   "id": "6e40470e",
   "metadata": {},
   "outputs": [],
   "source": [
    "os.makedirs(processed_path, exist_ok = True)\n",
    "\n",
    "tf.data.Dataset.save(train_processed, os.path.join(processed_path, 'train'))\n",
    "tf.data.Dataset.save(valid_processed, os.path.join(processed_path, 'valid'))"
   ]
  }
 ],
 "metadata": {
  "kernelspec": {
   "display_name": "project-venv (3.10.12)",
   "language": "python",
   "name": "python3"
  },
  "language_info": {
   "codemirror_mode": {
    "name": "ipython",
    "version": 3
   },
   "file_extension": ".py",
   "mimetype": "text/x-python",
   "name": "python",
   "nbconvert_exporter": "python",
   "pygments_lexer": "ipython3",
   "version": "3.10.12"
  }
 },
 "nbformat": 4,
 "nbformat_minor": 5
}
