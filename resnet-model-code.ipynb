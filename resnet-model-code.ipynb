{
 "cells": [
  {
   "cell_type": "code",
   "execution_count": null,
   "id": "e50581ec",
   "metadata": {},
   "outputs": [],
   "source": [
    "import tensorflow as tf\n",
    "import keras\n",
    "import os\n",
    "import core_values as cova"
   ]
  },
  {
   "cell_type": "code",
   "execution_count": null,
   "id": "5a1fdd44",
   "metadata": {},
   "outputs": [],
   "source": [
    "gpus = tf.config.list_physical_devices('GPU')\n",
    "print(gpus)\n",
    "\n",
    "try:\n",
    "    for gpu in gpus:\n",
    "        tf.config.experimental.set_memory_growth(gpu, True)\n",
    "\n",
    "except Exception as e:\n",
    "    print(f\"{e}\")"
   ]
  },
  {
   "cell_type": "code",
   "execution_count": null,
   "id": "caadf59e",
   "metadata": {},
   "outputs": [],
   "source": [
    "AUTOTUNE = tf.data.AUTOTUNE"
   ]
  },
  {
   "cell_type": "code",
   "execution_count": null,
   "id": "25add05f",
   "metadata": {},
   "outputs": [],
   "source": [
    "path = \"/mnt/d/Tojo Sir - Project/\"\n",
    "processed_path = os.path.join(path, \"processed_data\")"
   ]
  },
  {
   "cell_type": "code",
   "execution_count": null,
   "id": "1dbffd33",
   "metadata": {},
   "outputs": [],
   "source": [
    "try:\n",
    "    train_ds = tf.data.Dataset.load(os.path.join(processed_path, \"train\"))\n",
    "    valid_ds = tf.data.Dataset.load(os.path.join(processed_path, \"valid\"))\n",
    "\n",
    "except Exception as e:\n",
    "    print(f\"{e}\")"
   ]
  },
  {
   "cell_type": "code",
   "execution_count": null,
   "id": "67e2a46f",
   "metadata": {},
   "outputs": [],
   "source": [
    "train = train_ds.prefetch(buffer_size = AUTOTUNE)\n",
    "valid = valid_ds.prefetch(buffer_size = AUTOTUNE)"
   ]
  },
  {
   "cell_type": "code",
   "execution_count": null,
   "id": "acda4c08",
   "metadata": {},
   "outputs": [],
   "source": [
    "early_stopping = keras.callbacks.EarlyStopping(\n",
    "    monitor = 'val_loss',\n",
    "    patience = 5,\n",
    "    verbose = 1,\n",
    "    restore_best_weights = True\n",
    ")\n",
    "\n",
    "reduce_lr = keras.callbacks.ReduceLROnPlateau(\n",
    "    monitor = 'val_loss',\n",
    "    factor = 0.5,\n",
    "    patience = 3,\n",
    "    verbose = 1,\n",
    "    min_lr = 0.00000001\n",
    ")\n",
    "\n",
    "terminate_nan = keras.callbacks.TerminateOnNaN()"
   ]
  },
  {
   "cell_type": "code",
   "execution_count": null,
   "id": "f3b50f1f",
   "metadata": {},
   "outputs": [],
   "source": [
    "base_model = keras.applications.ResNet152V2(\n",
    "    include_top = False,\n",
    "    weights=\"imagenet\",\n",
    "    classes = 4,\n",
    "    input_shape=(cova.IMAGE_SIZE[0], cova.IMAGE_SIZE[1], 3)\n",
    ")\n",
    "\n",
    "base_model.trainable = False"
   ]
  },
  {
   "cell_type": "code",
   "execution_count": null,
   "id": "2c20874e",
   "metadata": {},
   "outputs": [],
   "source": [
    "model = keras.models.Sequential([\n",
    "    keras.layers.Input((cova.IMAGE_SIZE[0], cova.IMAGE_SIZE[1], 3)),\n",
    "\n",
    "    base_model,\n",
    "\n",
    "    keras.layers.Rescaling(scale=2, offset=-1), \n",
    "\n",
    "    keras.layers.GlobalAveragePooling2D(),\n",
    "    keras.layers.Dense(128, activation = \"leaky_relu\"),\n",
    "    keras.layers.Dense(4, activation = \"softmax\")\n",
    "])"
   ]
  },
  {
   "cell_type": "code",
   "execution_count": null,
   "id": "f51837db",
   "metadata": {},
   "outputs": [],
   "source": [
    "model.compile(optimizer = 'AdamW',\n",
    "              loss = keras.losses.SparseCategoricalCrossentropy(),\n",
    "              metrics = ['accuracy'],\n",
    "              steps_per_execution = 5)"
   ]
  },
  {
   "cell_type": "code",
   "execution_count": null,
   "id": "f2156fe8",
   "metadata": {},
   "outputs": [],
   "source": [
    "model.fit(train, validation_data = valid, epochs = 256, callbacks = [reduce_lr, terminate_nan, early_stopping])"
   ]
  },
  {
   "cell_type": "code",
   "execution_count": null,
   "id": "6f6445a5",
   "metadata": {},
   "outputs": [],
   "source": [
    "model.save(\"resnet152v2-trained-model.keras\", overwrite = True)"
   ]
  }
 ],
 "metadata": {
  "kernelspec": {
   "display_name": "project-venv (3.10.12)",
   "language": "python",
   "name": "python3"
  },
  "language_info": {
   "codemirror_mode": {
    "name": "ipython",
    "version": 3
   },
   "file_extension": ".py",
   "mimetype": "text/x-python",
   "name": "python",
   "nbconvert_exporter": "python",
   "pygments_lexer": "ipython3",
   "version": "3.10.12"
  }
 },
 "nbformat": 4,
 "nbformat_minor": 5
}
